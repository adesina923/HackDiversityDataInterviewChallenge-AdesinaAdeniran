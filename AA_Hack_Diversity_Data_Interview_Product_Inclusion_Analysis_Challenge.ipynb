{
 "cells": [
  {
   "cell_type": "markdown",
   "id": "a5d54da4-545d-438b-89b3-7718cf64b26b",
   "metadata": {
    "jp-MarkdownHeadingCollapsed": true,
    "tags": []
   },
   "source": [
    "## Hack.Diversity Data Interview: Product Inclusion Analysis Challenge"
   ]
  },
  {
   "cell_type": "markdown",
   "id": "1731e2ad-3003-4cdb-849d-fa730498b5e9",
   "metadata": {
    "tags": []
   },
   "source": [
    "#  1- Retrieve and Inspect the Dataset"
   ]
  },
  {
   "cell_type": "code",
   "execution_count": 3,
   "id": "37c7a0a3-7f1e-4277-aa4f-7b61d3214a6c",
   "metadata": {
    "tags": []
   },
   "outputs": [],
   "source": [
    "import numpy as np\n",
    "import pandas as pd\n",
    "import seaborn as sns\n",
    "import matplotlib.pyplot as plt\n",
    "\n",
    "\n",
    "file_name = 'inclusive_features_usage1.csv'  \n",
    "df = pd.read_csv(file_name)"
   ]
  },
  {
   "cell_type": "code",
   "execution_count": 4,
   "id": "bbdd929d-01c6-46fb-bcca-6aeab1c82bc1",
   "metadata": {
    "tags": []
   },
   "outputs": [
    {
     "data": {
      "text/html": [
       "<div>\n",
       "<style scoped>\n",
       "    .dataframe tbody tr th:only-of-type {\n",
       "        vertical-align: middle;\n",
       "    }\n",
       "\n",
       "    .dataframe tbody tr th {\n",
       "        vertical-align: top;\n",
       "    }\n",
       "\n",
       "    .dataframe thead th {\n",
       "        text-align: right;\n",
       "    }\n",
       "</style>\n",
       "<table border=\"1\" class=\"dataframe\">\n",
       "  <thead>\n",
       "    <tr style=\"text-align: right;\">\n",
       "      <th></th>\n",
       "      <th>user_id</th>\n",
       "      <th>feature_used</th>\n",
       "      <th>session_duration</th>\n",
       "      <th>engagement_score</th>\n",
       "      <th>accessibility_settings</th>\n",
       "      <th>age_group</th>\n",
       "      <th>gender</th>\n",
       "      <th>additional_attributes</th>\n",
       "    </tr>\n",
       "  </thead>\n",
       "  <tbody>\n",
       "    <tr>\n",
       "      <th>0</th>\n",
       "      <td>user_4737</td>\n",
       "      <td>Multilingual</td>\n",
       "      <td>60.77</td>\n",
       "      <td>4</td>\n",
       "      <td>4</td>\n",
       "      <td>Teenager</td>\n",
       "      <td>NaN</td>\n",
       "      <td>LGBTQ+</td>\n",
       "    </tr>\n",
       "    <tr>\n",
       "      <th>1</th>\n",
       "      <td>user_1492</td>\n",
       "      <td>Text-to-Speech</td>\n",
       "      <td>20.20</td>\n",
       "      <td>5</td>\n",
       "      <td>4</td>\n",
       "      <td>Professional</td>\n",
       "      <td>Non-Binary</td>\n",
       "      <td>NaN</td>\n",
       "    </tr>\n",
       "    <tr>\n",
       "      <th>2</th>\n",
       "      <td>user_5936</td>\n",
       "      <td>Colorblind Mode</td>\n",
       "      <td>93.78</td>\n",
       "      <td>2</td>\n",
       "      <td>2</td>\n",
       "      <td>Adult</td>\n",
       "      <td>Female</td>\n",
       "      <td>NaN</td>\n",
       "    </tr>\n",
       "    <tr>\n",
       "      <th>3</th>\n",
       "      <td>user_5519</td>\n",
       "      <td>Colorblind Mode</td>\n",
       "      <td>26.36</td>\n",
       "      <td>3</td>\n",
       "      <td>1</td>\n",
       "      <td>Adult</td>\n",
       "      <td>NaN</td>\n",
       "      <td>LGBTQ+</td>\n",
       "    </tr>\n",
       "    <tr>\n",
       "      <th>4</th>\n",
       "      <td>user_1853</td>\n",
       "      <td>High Contrast Mode</td>\n",
       "      <td>91.67</td>\n",
       "      <td>5</td>\n",
       "      <td>1</td>\n",
       "      <td>Young Adult</td>\n",
       "      <td>Male</td>\n",
       "      <td>NaN</td>\n",
       "    </tr>\n",
       "  </tbody>\n",
       "</table>\n",
       "</div>"
      ],
      "text/plain": [
       "     user_id        feature_used  session_duration  engagement_score  \\\n",
       "0  user_4737        Multilingual             60.77                 4   \n",
       "1  user_1492      Text-to-Speech             20.20                 5   \n",
       "2  user_5936     Colorblind Mode             93.78                 2   \n",
       "3  user_5519     Colorblind Mode             26.36                 3   \n",
       "4  user_1853  High Contrast Mode             91.67                 5   \n",
       "\n",
       "   accessibility_settings     age_group      gender additional_attributes  \n",
       "0                       4      Teenager         NaN                LGBTQ+  \n",
       "1                       4  Professional  Non-Binary                   NaN  \n",
       "2                       2         Adult      Female                   NaN  \n",
       "3                       1         Adult         NaN                LGBTQ+  \n",
       "4                       1   Young Adult        Male                   NaN  "
      ]
     },
     "execution_count": 4,
     "metadata": {},
     "output_type": "execute_result"
    }
   ],
   "source": [
    "df.head()"
   ]
  },
  {
   "cell_type": "code",
   "execution_count": 5,
   "id": "72197b42-73a3-494f-b14a-96808f8f39c9",
   "metadata": {
    "tags": []
   },
   "outputs": [
    {
     "name": "stdout",
     "output_type": "stream",
     "text": [
      "<class 'pandas.core.frame.DataFrame'>\n",
      "RangeIndex: 10000 entries, 0 to 9999\n",
      "Data columns (total 8 columns):\n",
      " #   Column                  Non-Null Count  Dtype  \n",
      "---  ------                  --------------  -----  \n",
      " 0   user_id                 10000 non-null  object \n",
      " 1   feature_used            10000 non-null  object \n",
      " 2   session_duration        10000 non-null  float64\n",
      " 3   engagement_score        10000 non-null  int64  \n",
      " 4   accessibility_settings  10000 non-null  int64  \n",
      " 5   age_group               10000 non-null  object \n",
      " 6   gender                  6003 non-null   object \n",
      " 7   additional_attributes   3997 non-null   object \n",
      "dtypes: float64(1), int64(2), object(5)\n",
      "memory usage: 625.1+ KB\n"
     ]
    }
   ],
   "source": [
    "df.info()"
   ]
  },
  {
   "cell_type": "markdown",
   "id": "73056087-5ced-4089-8907-f0ccb2d61052",
   "metadata": {
    "tags": []
   },
   "source": [
    "# 2- Data Cleaning & Preparation"
   ]
  },
  {
   "cell_type": "markdown",
   "id": "85aeb550-e90d-4d3d-9226-3d61f5c7e9aa",
   "metadata": {},
   "source": [
    "## Coverting objects to strings for ease-of-use"
   ]
  },
  {
   "cell_type": "code",
   "execution_count": 6,
   "id": "130e25d6-598f-4eb0-a1c1-cf5bac4889c5",
   "metadata": {
    "tags": []
   },
   "outputs": [
    {
     "name": "stdout",
     "output_type": "stream",
     "text": [
      "<class 'pandas.core.frame.DataFrame'>\n",
      "RangeIndex: 10000 entries, 0 to 9999\n",
      "Data columns (total 8 columns):\n",
      " #   Column                  Non-Null Count  Dtype  \n",
      "---  ------                  --------------  -----  \n",
      " 0   user_id                 10000 non-null  string \n",
      " 1   feature_used            10000 non-null  string \n",
      " 2   session_duration        10000 non-null  float64\n",
      " 3   engagement_score        10000 non-null  int64  \n",
      " 4   accessibility_settings  10000 non-null  int64  \n",
      " 5   age_group               10000 non-null  string \n",
      " 6   gender                  6003 non-null   string \n",
      " 7   additional_attributes   3997 non-null   string \n",
      "dtypes: float64(1), int64(2), string(5)\n",
      "memory usage: 625.1 KB\n"
     ]
    }
   ],
   "source": [
    "df['user_id'] = df['user_id'].astype('string')\n",
    "df['feature_used'] = df['feature_used'].astype('string')\n",
    "df['age_group'] = df['age_group'].astype('string')\n",
    "df['gender'] = df['gender'].astype('string')\n",
    "df['additional_attributes'] = df['additional_attributes'].astype('string')\n",
    "df.info()"
   ]
  },
  {
   "cell_type": "code",
   "execution_count": 7,
   "id": "6d938882-2f3a-48f9-8428-bf7a2eea1392",
   "metadata": {
    "tags": []
   },
   "outputs": [
    {
     "data": {
      "text/plain": [
       "user_id                      0\n",
       "feature_used                 0\n",
       "session_duration             0\n",
       "engagement_score             0\n",
       "accessibility_settings       0\n",
       "age_group                    0\n",
       "gender                    3997\n",
       "additional_attributes     6003\n",
       "dtype: int64"
      ]
     },
     "execution_count": 7,
     "metadata": {},
     "output_type": "execute_result"
    }
   ],
   "source": [
    "df.isnull().sum()"
   ]
  },
  {
   "cell_type": "code",
   "execution_count": 8,
   "id": "3ac87d29-727b-4732-a868-4759bd9e4c9f",
   "metadata": {
    "tags": []
   },
   "outputs": [
    {
     "data": {
      "text/plain": [
       "gender\n",
       "Gender Not Provided    3997\n",
       "Male                   2029\n",
       "Female                 1990\n",
       "Non-Binary             1984\n",
       "Name: count, dtype: Int64"
      ]
     },
     "execution_count": 8,
     "metadata": {},
     "output_type": "execute_result"
    }
   ],
   "source": [
    "df['gender'] = df['gender'].fillna('Prefer not to say')\n",
    "df['gender'].value_counts()\n",
    "df['gender'] = df['gender'].replace('Prefer not to say', 'Not Provided').astype('string')\n",
    "df['gender'].value_counts()\n",
    "df['gender'] = df['gender'].replace('Not Provided', 'Gender Not Provided').astype('string')\n",
    "df['gender'].value_counts()"
   ]
  },
  {
   "cell_type": "markdown",
   "id": "75502e5f-87c4-44d3-821c-22f997467037",
   "metadata": {},
   "source": [
    "## Missing values in 'additional_attributes' column"
   ]
  },
  {
   "cell_type": "code",
   "execution_count": 9,
   "id": "c32bf694-38a4-489d-8183-a5dcd726478e",
   "metadata": {
    "tags": []
   },
   "outputs": [
    {
     "data": {
      "text/plain": [
       "additional_attributes\n",
       "No Additional Attributes    6003\n",
       "Person of Color             2018\n",
       "LGBTQ+                      1979\n",
       "Name: count, dtype: Int64"
      ]
     },
     "execution_count": 9,
     "metadata": {},
     "output_type": "execute_result"
    }
   ],
   "source": [
    "df['additional_attributes'] = df['additional_attributes'].fillna('No Additional Attributes')\n",
    "df['additional_attributes'].value_counts()"
   ]
  },
  {
   "cell_type": "code",
   "execution_count": 10,
   "id": "09b82bca-6ce7-42cf-89ee-1367296a1fe3",
   "metadata": {
    "tags": []
   },
   "outputs": [
    {
     "data": {
      "text/plain": [
       "user_id                   0\n",
       "feature_used              0\n",
       "session_duration          0\n",
       "engagement_score          0\n",
       "accessibility_settings    0\n",
       "age_group                 0\n",
       "gender                    0\n",
       "additional_attributes     0\n",
       "dtype: int64"
      ]
     },
     "execution_count": 10,
     "metadata": {},
     "output_type": "execute_result"
    }
   ],
   "source": [
    "df.isnull().sum()"
   ]
  },
  {
   "cell_type": "code",
   "execution_count": 11,
   "id": "ee741f79-4056-4589-b3b4-f789a35b6f93",
   "metadata": {
    "tags": []
   },
   "outputs": [
    {
     "data": {
      "text/html": [
       "<div>\n",
       "<style scoped>\n",
       "    .dataframe tbody tr th:only-of-type {\n",
       "        vertical-align: middle;\n",
       "    }\n",
       "\n",
       "    .dataframe tbody tr th {\n",
       "        vertical-align: top;\n",
       "    }\n",
       "\n",
       "    .dataframe thead th {\n",
       "        text-align: right;\n",
       "    }\n",
       "</style>\n",
       "<table border=\"1\" class=\"dataframe\">\n",
       "  <thead>\n",
       "    <tr style=\"text-align: right;\">\n",
       "      <th></th>\n",
       "      <th>session_duration</th>\n",
       "      <th>engagement_score</th>\n",
       "      <th>accessibility_settings</th>\n",
       "    </tr>\n",
       "  </thead>\n",
       "  <tbody>\n",
       "    <tr>\n",
       "      <th>count</th>\n",
       "      <td>10000.000000</td>\n",
       "      <td>10000.00000</td>\n",
       "      <td>10000.000000</td>\n",
       "    </tr>\n",
       "    <tr>\n",
       "      <th>mean</th>\n",
       "      <td>62.443799</td>\n",
       "      <td>3.04360</td>\n",
       "      <td>2.489600</td>\n",
       "    </tr>\n",
       "    <tr>\n",
       "      <th>std</th>\n",
       "      <td>33.522672</td>\n",
       "      <td>1.41778</td>\n",
       "      <td>1.707332</td>\n",
       "    </tr>\n",
       "    <tr>\n",
       "      <th>min</th>\n",
       "      <td>5.010000</td>\n",
       "      <td>1.00000</td>\n",
       "      <td>0.000000</td>\n",
       "    </tr>\n",
       "    <tr>\n",
       "      <th>25%</th>\n",
       "      <td>33.070000</td>\n",
       "      <td>2.00000</td>\n",
       "      <td>1.000000</td>\n",
       "    </tr>\n",
       "    <tr>\n",
       "      <th>50%</th>\n",
       "      <td>63.175000</td>\n",
       "      <td>3.00000</td>\n",
       "      <td>2.000000</td>\n",
       "    </tr>\n",
       "    <tr>\n",
       "      <th>75%</th>\n",
       "      <td>91.600000</td>\n",
       "      <td>4.00000</td>\n",
       "      <td>4.000000</td>\n",
       "    </tr>\n",
       "    <tr>\n",
       "      <th>max</th>\n",
       "      <td>120.000000</td>\n",
       "      <td>5.00000</td>\n",
       "      <td>5.000000</td>\n",
       "    </tr>\n",
       "  </tbody>\n",
       "</table>\n",
       "</div>"
      ],
      "text/plain": [
       "       session_duration  engagement_score  accessibility_settings\n",
       "count      10000.000000       10000.00000            10000.000000\n",
       "mean          62.443799           3.04360                2.489600\n",
       "std           33.522672           1.41778                1.707332\n",
       "min            5.010000           1.00000                0.000000\n",
       "25%           33.070000           2.00000                1.000000\n",
       "50%           63.175000           3.00000                2.000000\n",
       "75%           91.600000           4.00000                4.000000\n",
       "max          120.000000           5.00000                5.000000"
      ]
     },
     "execution_count": 11,
     "metadata": {},
     "output_type": "execute_result"
    }
   ],
   "source": [
    "df.describe()"
   ]
  },
  {
   "cell_type": "markdown",
   "id": "9f451413-075b-4d60-8f77-c7ce7e3710b4",
   "metadata": {},
   "source": [
    "## Outliers"
   ]
  },
  {
   "cell_type": "code",
   "execution_count": 12,
   "id": "4b996896-4969-49bf-a0f9-62205434b904",
   "metadata": {
    "tags": []
   },
   "outputs": [
    {
     "data": {
      "image/png": "[encoded data removed]",
      "text/plain": [
       "<Figure size 640x480 with 1 Axes>"
      ]
     },
     "metadata": {},
     "output_type": "display_data"
    },
    {
     "data": {
      "image/png": "[encoded data removed]",
      "text/plain": [
       "<Figure size 640x480 with 1 Axes>"
      ]
     },
     "metadata": {},
     "output_type": "display_data"
    },
    {
     "name": "stdout",
     "output_type": "stream",
     "text": [
      "Empty DataFrame\n",
      "Columns: [user_id, feature_used, session_duration, engagement_score, accessibility_settings, age_group, gender, additional_attributes]\n",
      "Index: []\n"
     ]
    }
   ],
   "source": [
    "# session duration\n",
    "\n",
    "plt.hist(df['session_duration'], bins=20)\n",
    "plt.show()\n",
    "plt.boxplot(df['session_duration'])\n",
    "plt.title('Boxplot of session_duration')\n",
    "plt.show()\n",
    "\n",
    "###########################################\n",
    "Q1_session_duration = df['session_duration'].quantile(0.25)\n",
    "Q3_session_duration = df['session_duration'].quantile(0.75)\n",
    "IQR_session_duration = Q3_session_duration - Q1_session_duration\n",
    "lower_session_duration = Q1_session_duration - (1.5 * IQR_session_duration)\n",
    "upper_session_duration = Q3_session_duration + (1.5 * IQR_session_duration)\n",
    "outliers_session_duration = df[(df['session_duration'] < lower_session_duration) | (df['session_duration'] > upper_session_duration)]\n",
    "print(outliers_session_duration)"
   ]
  },
  {
   "cell_type": "code",
   "execution_count": 13,
   "id": "2758414c-61a6-4e8e-9531-8df7278f34b6",
   "metadata": {
    "tags": []
   },
   "outputs": [
    {
     "data": {
      "image/png": "[encoded data removed]",
      "text/plain": [
       "<Figure size 640x480 with 1 Axes>"
      ]
     },
     "metadata": {},
     "output_type": "display_data"
    },
    {
     "data": {
      "image/png": "[encoded data removed]",
      "text/plain": [
       "<Figure size 640x480 with 1 Axes>"
      ]
     },
     "metadata": {},
     "output_type": "display_data"
    },
    {
     "name": "stdout",
     "output_type": "stream",
     "text": [
      "Empty DataFrame\n",
      "Columns: [user_id, feature_used, session_duration, engagement_score, accessibility_settings, age_group, gender, additional_attributes]\n",
      "Index: []\n"
     ]
    }
   ],
   "source": [
    "# engagement score\n",
    "plt.hist(df['engagement_score'])\n",
    "plt.show()\n",
    "plt.boxplot(df['engagement_score'])\n",
    "plt.title('Boxplot of engagement_score')\n",
    "plt.show()\n",
    "###########################################\n",
    "Q1_engagement_score = df['engagement_score'].quantile(0.25)\n",
    "Q3_engagement_score = df['engagement_score'].quantile(0.75)\n",
    "IQR_engagement_score = Q3_engagement_score - Q1_engagement_score\n",
    "lower_engagement_score = Q1_engagement_score - (1.5 * IQR_engagement_score)\n",
    "upper_engagement_score = Q3_engagement_score + (1.5 * IQR_engagement_score)\n",
    "outliers_engagement_score = df[(df['engagement_score'] < lower_engagement_score) | (df['engagement_score'] > upper_engagement_score)]\n",
    "print(outliers_engagement_score)"
   ]
  },
  {
   "cell_type": "markdown",
   "id": "ed98d6b7-53c7-4652-bd95-005dbb8b798b",
   "metadata": {},
   "source": [
    "I chose not to omit any 'outliers' in both the session duration and egagement score columns, as no values fall below the lower bound or above the upper bound as detemined by the interquartile range"
   ]
  },
  {
   "cell_type": "markdown",
   "id": "bc5bd12d-a86d-4fc7-b38f-3601bbd8ac1c",
   "metadata": {},
   "source": [
    "## High Accessibility User Classification"
   ]
  },
  {
   "cell_type": "code",
   "execution_count": 14,
   "id": "9d4a61ac-2bb1-4710-8188-373ee3e1e98d",
   "metadata": {
    "tags": []
   },
   "outputs": [
    {
     "name": "stdout",
     "output_type": "stream",
     "text": [
      "high_accessibility_user\n",
      "0    5035\n",
      "1    4965\n",
      "Name: count, dtype: int64\n"
     ]
    },
    {
     "data": {
      "image/png": "[encoded data removed]",
      "text/plain": [
       "<Figure size 661.111x260 with 1 Axes>"
      ]
     },
     "metadata": {},
     "output_type": "display_data"
    }
   ],
   "source": [
    "df['high_accessibility_user'] = [1 if x >= 3 else 0 for x in df['accessibility_settings'] ]\n",
    "print(df['high_accessibility_user'].value_counts())\n",
    "high_accessibility_user = sns.catplot(y=\"high_accessibility_user\", kind=\"count\", data=df, height=2.6, aspect=2.5)"
   ]
  },
  {
   "cell_type": "markdown",
   "id": "5c032ebc-38fc-47a1-9466-e161e23a999a",
   "metadata": {},
   "source": [
    "I chose to impute 1s and 0s for the high_accessibility_user column because most ML models, such as linear/logistic regression work better with numeric values over boolean values. It is also easy to interpret that a '1' in the column means that the user is classed as high accessibility, and a '0' means that the user is not classed as high accessibility."
   ]
  },
  {
   "cell_type": "markdown",
   "id": "d12a8c81-7605-47d4-82a7-76c2a2a9b5e6",
   "metadata": {},
   "source": [
    "## Intersectionality Analysis - demographics column"
   ]
  },
  {
   "cell_type": "code",
   "execution_count": 15,
   "id": "e8f94b45-9e40-4f40-a2de-68b7cd1cad1c",
   "metadata": {
    "tags": []
   },
   "outputs": [
    {
     "data": {
      "text/html": [
       "<div>\n",
       "<style scoped>\n",
       "    .dataframe tbody tr th:only-of-type {\n",
       "        vertical-align: middle;\n",
       "    }\n",
       "\n",
       "    .dataframe tbody tr th {\n",
       "        vertical-align: top;\n",
       "    }\n",
       "\n",
       "    .dataframe thead th {\n",
       "        text-align: right;\n",
       "    }\n",
       "</style>\n",
       "<table border=\"1\" class=\"dataframe\">\n",
       "  <thead>\n",
       "    <tr style=\"text-align: right;\">\n",
       "      <th></th>\n",
       "      <th>user_id</th>\n",
       "      <th>feature_used</th>\n",
       "      <th>session_duration</th>\n",
       "      <th>engagement_score</th>\n",
       "      <th>accessibility_settings</th>\n",
       "      <th>age_group</th>\n",
       "      <th>gender</th>\n",
       "      <th>additional_attributes</th>\n",
       "      <th>high_accessibility_user</th>\n",
       "      <th>demographics</th>\n",
       "    </tr>\n",
       "  </thead>\n",
       "  <tbody>\n",
       "    <tr>\n",
       "      <th>0</th>\n",
       "      <td>user_4737</td>\n",
       "      <td>Multilingual</td>\n",
       "      <td>60.77</td>\n",
       "      <td>4</td>\n",
       "      <td>4</td>\n",
       "      <td>Teenager</td>\n",
       "      <td>Gender Not Provided</td>\n",
       "      <td>LGBTQ+</td>\n",
       "      <td>1</td>\n",
       "      <td>Teenager-Gender Not Provided-LGBTQ+</td>\n",
       "    </tr>\n",
       "    <tr>\n",
       "      <th>1</th>\n",
       "      <td>user_1492</td>\n",
       "      <td>Text-to-Speech</td>\n",
       "      <td>20.20</td>\n",
       "      <td>5</td>\n",
       "      <td>4</td>\n",
       "      <td>Professional</td>\n",
       "      <td>Non-Binary</td>\n",
       "      <td>No Additional Attributes</td>\n",
       "      <td>1</td>\n",
       "      <td>Professional-Non-Binary-No Additional Attributes</td>\n",
       "    </tr>\n",
       "    <tr>\n",
       "      <th>2</th>\n",
       "      <td>user_5936</td>\n",
       "      <td>Colorblind Mode</td>\n",
       "      <td>93.78</td>\n",
       "      <td>2</td>\n",
       "      <td>2</td>\n",
       "      <td>Adult</td>\n",
       "      <td>Female</td>\n",
       "      <td>No Additional Attributes</td>\n",
       "      <td>0</td>\n",
       "      <td>Adult-Female-No Additional Attributes</td>\n",
       "    </tr>\n",
       "    <tr>\n",
       "      <th>3</th>\n",
       "      <td>user_5519</td>\n",
       "      <td>Colorblind Mode</td>\n",
       "      <td>26.36</td>\n",
       "      <td>3</td>\n",
       "      <td>1</td>\n",
       "      <td>Adult</td>\n",
       "      <td>Gender Not Provided</td>\n",
       "      <td>LGBTQ+</td>\n",
       "      <td>0</td>\n",
       "      <td>Adult-Gender Not Provided-LGBTQ+</td>\n",
       "    </tr>\n",
       "    <tr>\n",
       "      <th>4</th>\n",
       "      <td>user_1853</td>\n",
       "      <td>High Contrast Mode</td>\n",
       "      <td>91.67</td>\n",
       "      <td>5</td>\n",
       "      <td>1</td>\n",
       "      <td>Young Adult</td>\n",
       "      <td>Male</td>\n",
       "      <td>No Additional Attributes</td>\n",
       "      <td>0</td>\n",
       "      <td>Young Adult-Male-No Additional Attributes</td>\n",
       "    </tr>\n",
       "  </tbody>\n",
       "</table>\n",
       "</div>"
      ],
      "text/plain": [
       "     user_id        feature_used  session_duration  engagement_score  \\\n",
       "0  user_4737        Multilingual             60.77                 4   \n",
       "1  user_1492      Text-to-Speech             20.20                 5   \n",
       "2  user_5936     Colorblind Mode             93.78                 2   \n",
       "3  user_5519     Colorblind Mode             26.36                 3   \n",
       "4  user_1853  High Contrast Mode             91.67                 5   \n",
       "\n",
       "   accessibility_settings     age_group               gender  \\\n",
       "0                       4      Teenager  Gender Not Provided   \n",
       "1                       4  Professional           Non-Binary   \n",
       "2                       2         Adult               Female   \n",
       "3                       1         Adult  Gender Not Provided   \n",
       "4                       1   Young Adult                 Male   \n",
       "\n",
       "      additional_attributes  high_accessibility_user  \\\n",
       "0                    LGBTQ+                        1   \n",
       "1  No Additional Attributes                        1   \n",
       "2  No Additional Attributes                        0   \n",
       "3                    LGBTQ+                        0   \n",
       "4  No Additional Attributes                        0   \n",
       "\n",
       "                                       demographics  \n",
       "0               Teenager-Gender Not Provided-LGBTQ+  \n",
       "1  Professional-Non-Binary-No Additional Attributes  \n",
       "2             Adult-Female-No Additional Attributes  \n",
       "3                  Adult-Gender Not Provided-LGBTQ+  \n",
       "4         Young Adult-Male-No Additional Attributes  "
      ]
     },
     "execution_count": 15,
     "metadata": {},
     "output_type": "execute_result"
    }
   ],
   "source": [
    "df['demographics'] = df['age_group'] + '-' + df['gender'] + '-' + df['additional_attributes']\n",
    "df['demographics'].head(10)\n",
    "df.head()"
   ]
  },
  {
   "cell_type": "code",
   "execution_count": 16,
   "id": "b8cb4416-5f20-4a5d-bf92-fff2018836f0",
   "metadata": {
    "tags": []
   },
   "outputs": [
    {
     "data": {
      "text/plain": [
       "demographics\n",
       "Adult-Non-Binary-No Additional Attributes           431\n",
       "Adult-Male-No Additional Attributes                 426\n",
       "Senior-Male-No Additional Attributes                420\n",
       "Professional-Male-No Additional Attributes          417\n",
       "Young Adult-Female-No Additional Attributes         414\n",
       "Professional-Gender Not Provided-Person of Color    411\n",
       "Senior-Gender Not Provided-LGBTQ+                   411\n",
       "Young Adult-Gender Not Provided-Person of Color     410\n",
       "Senior-Gender Not Provided-Person of Color          408\n",
       "Senior-Female-No Additional Attributes              406\n",
       "Teenager-Gender Not Provided-Person of Color        405\n",
       "Adult-Gender Not Provided-LGBTQ+                    402\n",
       "Young Adult-Non-Binary-No Additional Attributes     401\n",
       "Teenager-Gender Not Provided-LGBTQ+                 396\n",
       "Professional-Female-No Additional Attributes        394\n",
       "Young Adult-Gender Not Provided-LGBTQ+              392\n",
       "Adult-Female-No Additional Attributes               392\n",
       "Professional-Non-Binary-No Additional Attributes    390\n",
       "Teenager-Male-No Additional Attributes              390\n",
       "Adult-Gender Not Provided-Person of Color           384\n",
       "Teenager-Female-No Additional Attributes            384\n",
       "Teenager-Non-Binary-No Additional Attributes        381\n",
       "Senior-Non-Binary-No Additional Attributes          381\n",
       "Professional-Gender Not Provided-LGBTQ+             378\n",
       "Young Adult-Male-No Additional Attributes           376\n",
       "Name: count, dtype: Int64"
      ]
     },
     "execution_count": 16,
     "metadata": {},
     "output_type": "execute_result"
    }
   ],
   "source": [
    "df['demographics'].value_counts()"
   ]
  },
  {
   "cell_type": "markdown",
   "id": "f6a2e1a9-470b-4659-8543-0d51a118488d",
   "metadata": {},
   "source": [
    "The site is most commonly used by Non-Binary Adults, and least commonly used by Young Adult Males"
   ]
  },
  {
   "cell_type": "code",
   "execution_count": null,
   "id": "a7659608-99f1-4ffd-a15b-8a76479375ee",
   "metadata": {},
   "outputs": [],
   "source": []
  }
 ],
 "metadata": {
  "environment": {
   "kernel": "conda-base-py",
   "name": "workbench-notebooks.m126",
   "type": "gcloud",
   "uri": "us-docker.pkg.dev/deeplearning-platform-release/gcr.io/workbench-notebooks:m126"
  },
  "kernelspec": {
   "display_name": "Python 3 (ipykernel)",
   "language": "python",
   "name": "conda-base-py"
  },
  "language_info": {
   "codemirror_mode": {
    "name": "ipython",
    "version": 3
   },
   "file_extension": ".py",
   "mimetype": "text/x-python",
   "name": "python",
   "nbconvert_exporter": "python",
   "pygments_lexer": "ipython3",
   "version": "3.10.15"
  }
 },
 "nbformat": 4,
 "nbformat_minor": 5
}
