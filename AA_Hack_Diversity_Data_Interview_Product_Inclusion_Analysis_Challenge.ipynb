{
 "cells": [
  {
   "cell_type": "markdown",
   "id": "a5d54da4-545d-438b-89b3-7718cf64b26b",
   "metadata": {
    "jp-MarkdownHeadingCollapsed": true,
    "tags": []
   },
   "source": [
    "## Hack.Diversity Data Interview: Product Inclusion Analysis Challenge"
   ]
  },
  {
   "cell_type": "markdown",
   "id": "1731e2ad-3003-4cdb-849d-fa730498b5e9",
   "metadata": {
    "tags": []
   },
   "source": [
    "#  1- Retrieve and Inspect the Dataset"
   ]
  },
  {
   "cell_type": "code",
   "execution_count": 3,
   "id": "37c7a0a3-7f1e-4277-aa4f-7b61d3214a6c",
   "metadata": {
    "tags": []
   },
   "outputs": [],
   "source": [
    "import numpy as np\n",
    "import pandas as pd\n",
    "import seaborn as sns\n",
    "import matplotlib.pyplot as plt\n",
    "\n",
    "\n",
    "file_name = 'inclusive_features_usage1.csv'  \n",
    "df = pd.read_csv(file_name)"
   ]
  },
  {
   "cell_type": "code",
   "execution_count": 4,
   "id": "bbdd929d-01c6-46fb-bcca-6aeab1c82bc1",
   "metadata": {
    "tags": []
   },
   "outputs": [
    {
     "data": {
      "text/html": [
       "<div>\n",
       "<style scoped>\n",
       "    .dataframe tbody tr th:only-of-type {\n",
       "        vertical-align: middle;\n",
       "    }\n",
       "\n",
       "    .dataframe tbody tr th {\n",
       "        vertical-align: top;\n",
       "    }\n",
       "\n",
       "    .dataframe thead th {\n",
       "        text-align: right;\n",
       "    }\n",
       "</style>\n",
       "<table border=\"1\" class=\"dataframe\">\n",
       "  <thead>\n",
       "    <tr style=\"text-align: right;\">\n",
       "      <th></th>\n",
       "      <th>user_id</th>\n",
       "      <th>feature_used</th>\n",
       "      <th>session_duration</th>\n",
       "      <th>engagement_score</th>\n",
       "      <th>accessibility_settings</th>\n",
       "      <th>age_group</th>\n",
       "      <th>gender</th>\n",
       "      <th>additional_attributes</th>\n",
       "    </tr>\n",
       "  </thead>\n",
       "  <tbody>\n",
       "    <tr>\n",
       "      <th>0</th>\n",
       "      <td>user_4737</td>\n",
       "      <td>Multilingual</td>\n",
       "      <td>60.77</td>\n",
       "      <td>4</td>\n",
       "      <td>4</td>\n",
       "      <td>Teenager</td>\n",
       "      <td>NaN</td>\n",
       "      <td>LGBTQ+</td>\n",
       "    </tr>\n",
       "    <tr>\n",
       "      <th>1</th>\n",
       "      <td>user_1492</td>\n",
       "      <td>Text-to-Speech</td>\n",
       "      <td>20.20</td>\n",
       "      <td>5</td>\n",
       "      <td>4</td>\n",
       "      <td>Professional</td>\n",
       "      <td>Non-Binary</td>\n",
       "      <td>NaN</td>\n",
       "    </tr>\n",
       "    <tr>\n",
       "      <th>2</th>\n",
       "      <td>user_5936</td>\n",
       "      <td>Colorblind Mode</td>\n",
       "      <td>93.78</td>\n",
       "      <td>2</td>\n",
       "      <td>2</td>\n",
       "      <td>Adult</td>\n",
       "      <td>Female</td>\n",
       "      <td>NaN</td>\n",
       "    </tr>\n",
       "    <tr>\n",
       "      <th>3</th>\n",
       "      <td>user_5519</td>\n",
       "      <td>Colorblind Mode</td>\n",
       "      <td>26.36</td>\n",
       "      <td>3</td>\n",
       "      <td>1</td>\n",
       "      <td>Adult</td>\n",
       "      <td>NaN</td>\n",
       "      <td>LGBTQ+</td>\n",
       "    </tr>\n",
       "    <tr>\n",
       "      <th>4</th>\n",
       "      <td>user_1853</td>\n",
       "      <td>High Contrast Mode</td>\n",
       "      <td>91.67</td>\n",
       "      <td>5</td>\n",
       "      <td>1</td>\n",
       "      <td>Young Adult</td>\n",
       "      <td>Male</td>\n",
       "      <td>NaN</td>\n",
       "    </tr>\n",
       "  </tbody>\n",
       "</table>\n",
       "</div>"
      ],
      "text/plain": [
       "     user_id        feature_used  session_duration  engagement_score  \\\n",
       "0  user_4737        Multilingual             60.77                 4   \n",
       "1  user_1492      Text-to-Speech             20.20                 5   \n",
       "2  user_5936     Colorblind Mode             93.78                 2   \n",
       "3  user_5519     Colorblind Mode             26.36                 3   \n",
       "4  user_1853  High Contrast Mode             91.67                 5   \n",
       "\n",
       "   accessibility_settings     age_group      gender additional_attributes  \n",
       "0                       4      Teenager         NaN                LGBTQ+  \n",
       "1                       4  Professional  Non-Binary                   NaN  \n",
       "2                       2         Adult      Female                   NaN  \n",
       "3                       1         Adult         NaN                LGBTQ+  \n",
       "4                       1   Young Adult        Male                   NaN  "
      ]
     },
     "execution_count": 4,
     "metadata": {},
     "output_type": "execute_result"
    }
   ],
   "source": [
    "df.head()"
   ]
  },
  {
   "cell_type": "code",
   "execution_count": 5,
   "id": "72197b42-73a3-494f-b14a-96808f8f39c9",
   "metadata": {
    "tags": []
   },
   "outputs": [
    {
     "name": "stdout",
     "output_type": "stream",
     "text": [
      "<class 'pandas.core.frame.DataFrame'>\n",
      "RangeIndex: 10000 entries, 0 to 9999\n",
      "Data columns (total 8 columns):\n",
      " #   Column                  Non-Null Count  Dtype  \n",
      "---  ------                  --------------  -----  \n",
      " 0   user_id                 10000 non-null  object \n",
      " 1   feature_used            10000 non-null  object \n",
      " 2   session_duration        10000 non-null  float64\n",
      " 3   engagement_score        10000 non-null  int64  \n",
      " 4   accessibility_settings  10000 non-null  int64  \n",
      " 5   age_group               10000 non-null  object \n",
      " 6   gender                  6003 non-null   object \n",
      " 7   additional_attributes   3997 non-null   object \n",
      "dtypes: float64(1), int64(2), object(5)\n",
      "memory usage: 625.1+ KB\n"
     ]
    }
   ],
   "source": [
    "df.info()"
   ]
  },
  {
   "cell_type": "code",
   "execution_count": null,
   "id": "a5be9d85-d1dc-46da-b273-81f63903b601",
   "metadata": {},
   "outputs": [],
   "source": []
  }
 ],
 "metadata": {
  "environment": {
   "kernel": "conda-base-py",
   "name": "workbench-notebooks.m126",
   "type": "gcloud",
   "uri": "us-docker.pkg.dev/deeplearning-platform-release/gcr.io/workbench-notebooks:m126"
  },
  "kernelspec": {
   "display_name": "Python 3 (ipykernel)",
   "language": "python",
   "name": "conda-base-py"
  },
  "language_info": {
   "codemirror_mode": {
    "name": "ipython",
    "version": 3
   },
   "file_extension": ".py",
   "mimetype": "text/x-python",
   "name": "python",
   "nbconvert_exporter": "python",
   "pygments_lexer": "ipython3",
   "version": "3.10.15"
  }
 },
 "nbformat": 4,
 "nbformat_minor": 5
}
